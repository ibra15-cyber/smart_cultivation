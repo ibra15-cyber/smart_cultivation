{
 "cells": [
  {
   "cell_type": "markdown",
   "id": "09a09b78",
   "metadata": {
    "ExecuteTime": {
     "end_time": "2023-04-25T21:40:43.273144Z",
     "start_time": "2023-04-25T21:40:43.261155Z"
    }
   },
   "source": [
    "# Importing packages\n"
   ]
  },
  {
   "cell_type": "code",
   "execution_count": null,
   "id": "5119d46f",
   "metadata": {
    "ExecuteTime": {
     "end_time": "2023-04-29T07:29:13.295850Z",
     "start_time": "2023-04-29T07:28:24.316011Z"
    }
   },
   "outputs": [],
   "source": [
    "import pandas as pd\n",
    "import numpy as np\n",
    "import matplotlib.pyplot as plt\n",
    "import seaborn as sns\n",
    "from sklearn import model_selection\n",
    "from sklearn import preprocessing\n",
    "from sklearn.tree import DecisionTreeClassifier\n",
    "from sklearn.pipeline import make_pipeline\n",
    "from sklearn.svm import SVC\n",
    "from sklearn.ensemble import RandomForestClassifier\n",
    "from sklearn.neighbors import KNeighborsClassifier\n",
    "from sklearn.metrics import confusion_matrix, classification_report, accuracy_score, precision_score, recall_score, f1_score, roc_auc_score, roc_curve, auc\n",
    "from sklearn.ensemble import BaggingClassifier, VotingClassifier\n",
    "from sklearn.metrics import mean_absolute_error, mean_squared_error, make_scorer\n",
    "import warnings\n",
    "warnings.filterwarnings('ignore')\n",
    "from sklearn.model_selection import cross_val_score\n",
    "from sklearn.multiclass import OneVsRestClassifier\n",
    "from sklearn.preprocessing import label_binarize\n",
    "from sklearn.metrics import roc_curve, auc\n",
    "from sklearn.preprocessing import label_binarize\n"
   ]
  },
  {
   "cell_type": "markdown",
   "id": "e4ca9450",
   "metadata": {
    "ExecuteTime": {
     "end_time": "2023-04-25T16:53:16.221504Z",
     "start_time": "2023-04-25T16:53:16.114602Z"
    }
   },
   "source": [
    "# Loading the dataset\n"
   ]
  },
  {
   "cell_type": "code",
   "execution_count": null,
   "id": "8d49a1a5",
   "metadata": {
    "ExecuteTime": {
     "end_time": "2023-04-29T07:29:13.660508Z",
     "start_time": "2023-04-29T07:29:13.300843Z"
    }
   },
   "outputs": [],
   "source": [
    "df = pd.read_csv('./Crop_recommendation.csv')"
   ]
  },
  {
   "cell_type": "markdown",
   "id": "c5d2ec74",
   "metadata": {},
   "source": [
    "# Analyzing imported data\n"
   ]
  },
  {
   "cell_type": "code",
   "execution_count": null,
   "id": "70ed3252",
   "metadata": {
    "ExecuteTime": {
     "end_time": "2023-04-29T07:29:14.196010Z",
     "start_time": "2023-04-29T07:29:13.664504Z"
    },
    "scrolled": false
   },
   "outputs": [],
   "source": [
    "df #show the complete data set"
   ]
  },
  {
   "cell_type": "code",
   "execution_count": null,
   "id": "78cbab84",
   "metadata": {
    "ExecuteTime": {
     "end_time": "2023-04-29T07:29:14.368849Z",
     "start_time": "2023-04-29T07:29:14.202006Z"
    },
    "scrolled": true
   },
   "outputs": [],
   "source": [
    "print(\"Shape of the dataframe: \",df.shape) #number of rows and columes\n",
    "df.isna().sum() #detect presence of a missing value in each column"
   ]
  },
  {
   "cell_type": "code",
   "execution_count": null,
   "id": "cd8a1810",
   "metadata": {
    "ExecuteTime": {
     "end_time": "2023-04-29T07:29:14.589642Z",
     "start_time": "2023-04-29T07:29:14.372846Z"
    }
   },
   "outputs": [],
   "source": [
    "df.info() #gives information about the num of non null cols, data type in each col and memory usage"
   ]
  },
  {
   "cell_type": "markdown",
   "id": "182f8f50",
   "metadata": {},
   "source": [
    "# Summary Statistics"
   ]
  },
  {
   "cell_type": "code",
   "execution_count": null,
   "id": "5ec62171",
   "metadata": {
    "ExecuteTime": {
     "end_time": "2023-04-29T07:29:14.732512Z",
     "start_time": "2023-04-29T07:29:14.594640Z"
    }
   },
   "outputs": [],
   "source": [
    "df.describe() #caluculates the count, mean, standard deviation, min and max values and percentals of each col or attribute"
   ]
  },
  {
   "cell_type": "code",
   "execution_count": null,
   "id": "2606f3ad",
   "metadata": {
    "ExecuteTime": {
     "end_time": "2023-04-29T07:29:14.748497Z",
     "start_time": "2023-04-29T07:29:14.736508Z"
    }
   },
   "outputs": [],
   "source": [
    "df.dtypes #shows the datatypes of the various cols"
   ]
  },
  {
   "cell_type": "markdown",
   "id": "163768c8",
   "metadata": {},
   "source": [
    "# Exploratory Data Analysis"
   ]
  },
  {
   "cell_type": "code",
   "execution_count": null,
   "id": "dc4f2ca2",
   "metadata": {
    "ExecuteTime": {
     "end_time": "2023-04-29T07:29:17.566876Z",
     "start_time": "2023-04-29T07:29:14.752494Z"
    }
   },
   "outputs": [],
   "source": [
    "#getting the data visualization of the col nitrogen using seabon function displot\n",
    "sns.displot(x=df['N'], bins=20,kde=True,edgecolor=\"black\",color='black',facecolor='#337dff')\n",
    "plt.title(\"Nitrogen\",size=20)\n",
    "plt.show()"
   ]
  },
  {
   "cell_type": "code",
   "execution_count": null,
   "id": "33010a55",
   "metadata": {
    "ExecuteTime": {
     "end_time": "2023-04-29T07:29:18.202290Z",
     "start_time": "2023-04-29T07:29:17.570873Z"
    },
    "scrolled": false
   },
   "outputs": [],
   "source": [
    "sns.displot(x=df['P'],bins=20,color='black',edgecolor='black',kde=True,facecolor='#337dff')\n",
    "plt.title(\"Phosphorus\", size=20)\n",
    "plt.xticks(range(0,150,20))\n",
    "plt.show()"
   ]
  },
  {
   "cell_type": "code",
   "execution_count": null,
   "id": "a75e98c8",
   "metadata": {
    "ExecuteTime": {
     "end_time": "2023-04-29T07:29:18.959581Z",
     "start_time": "2023-04-29T07:29:18.212275Z"
    }
   },
   "outputs": [],
   "source": [
    "sns.displot(x=df['K'],kde=True, bins=20, facecolor='#337DFF',edgecolor='black', color='black')\n",
    "plt.title(\"Potassium\",size=20)\n",
    "plt.show()"
   ]
  },
  {
   "cell_type": "code",
   "execution_count": null,
   "id": "f78cf7e2",
   "metadata": {
    "ExecuteTime": {
     "end_time": "2023-04-29T07:29:19.758838Z",
     "start_time": "2023-04-29T07:29:18.963577Z"
    }
   },
   "outputs": [],
   "source": [
    "sns.displot(x=df['temperature'], bins=20,kde=True,edgecolor=\"black\",color='black',facecolor='#337DFF')\n",
    "plt.title(\"Temperature\",size=20)\n",
    "plt.show()"
   ]
  },
  {
   "cell_type": "code",
   "execution_count": null,
   "id": "0e3687a7",
   "metadata": {
    "ExecuteTime": {
     "end_time": "2023-04-29T07:29:20.376263Z",
     "start_time": "2023-04-29T07:29:19.762834Z"
    }
   },
   "outputs": [],
   "source": [
    "sns.displot(x=df['humidity'], color='black',facecolor='#337DFF',kde=True,edgecolor='black')\n",
    "plt.title(\"Humidity\",size=20)\n",
    "plt.show()"
   ]
  },
  {
   "cell_type": "code",
   "execution_count": null,
   "id": "7278931c",
   "metadata": {
    "ExecuteTime": {
     "end_time": "2023-04-29T07:29:21.101590Z",
     "start_time": "2023-04-29T07:29:20.381258Z"
    }
   },
   "outputs": [],
   "source": [
    "sns.displot(x=df['rainfall'], color='black',facecolor='#337DFF',kde=True,edgecolor='black')\n",
    "plt.title(\"Rainfall\",size=20)\n",
    "plt.show()"
   ]
  },
  {
   "cell_type": "code",
   "execution_count": null,
   "id": "e38c2a44",
   "metadata": {
    "ExecuteTime": {
     "end_time": "2023-04-29T07:29:24.926036Z",
     "start_time": "2023-04-29T07:29:21.106585Z"
    },
    "scrolled": false
   },
   "outputs": [],
   "source": [
    "#plotting the effect of temperature and rainfall on all the crops\n",
    "sns.relplot(x='rainfall',y='temperature',data=df, kind='scatter', hue='label', height=5)\n",
    "plt.show()"
   ]
  },
  {
   "cell_type": "code",
   "execution_count": null,
   "id": "026a9a67",
   "metadata": {},
   "outputs": [],
   "source": [
    "#plotting the effect of ph and temperatureq on all the crops\n",
    "sns.relplot(x='ph',y='temperature',data=df, kind='scatter', hue='label', height=5)\n",
    "plt.show()"
   ]
  },
  {
   "cell_type": "code",
   "execution_count": null,
   "id": "8d27c029",
   "metadata": {
    "ExecuteTime": {
     "end_time": "2023-04-29T07:31:12.661858Z",
     "start_time": "2023-04-29T07:29:24.931028Z"
    }
   },
   "outputs": [],
   "source": [
    "#using pair plot to show the relationship between pairs of attributes \n",
    "sns.pairplot(data=df,hue='label')\n",
    "plt.show()"
   ]
  },
  {
   "cell_type": "code",
   "execution_count": null,
   "id": "5a139957",
   "metadata": {
    "ExecuteTime": {
     "end_time": "2023-04-29T07:31:12.693826Z",
     "start_time": "2023-04-29T07:31:12.668851Z"
    }
   },
   "outputs": [],
   "source": [
    "# Unique values in the label column\n",
    "crops = df['label'].unique() #get us the different or unique crops\n",
    "print(crops)\n",
    "# print(len(crops)) #print the total size\n",
    "# print(crops) #print the crops\n",
    "print(pd.value_counts(df['label'])) #for each unique crop count the number of  data we got on that crop"
   ]
  },
  {
   "cell_type": "code",
   "execution_count": null,
   "id": "268d91b9",
   "metadata": {
    "ExecuteTime": {
     "end_time": "2023-04-29T07:31:12.883651Z",
     "start_time": "2023-04-29T07:31:12.697824Z"
    }
   },
   "outputs": [],
   "source": [
    "# Filtering each unique label and store it in a list df2 for to plot the box plot\n",
    "\n",
    "df2=[]\n",
    "for i in crops:\n",
    "    df2.append(df[df['label'] == i]) #i.e making a list that contain unique crops in different list\n",
    "df2[20].head() #printing the first 5 list of the second set of crop"
   ]
  },
  {
   "cell_type": "code",
   "execution_count": null,
   "id": "3941dd22",
   "metadata": {},
   "outputs": [],
   "source": [
    "df.duplicated().any() #checking for duplicate"
   ]
  },
  {
   "cell_type": "code",
   "execution_count": null,
   "id": "55527a29",
   "metadata": {
    "ExecuteTime": {
     "end_time": "2023-04-29T07:31:14.067552Z",
     "start_time": "2023-04-29T07:31:12.887648Z"
    },
    "scrolled": false
   },
   "outputs": [],
   "source": [
    "#expected heatmap when we run the data colums against themselves\n",
    "plt.figure(figsize=(12,8)) #create a 12x8 plot \n",
    "sns.heatmap(df.corr(),annot=True)\n",
    "plt.xlabel(\"Original\")\n",
    "plt.ylabel(\"Predicted\")\n",
    "plt.show()"
   ]
  },
  {
   "cell_type": "code",
   "execution_count": null,
   "id": "e3ff372b",
   "metadata": {},
   "outputs": [],
   "source": [
    "# Create a dot plot using Seaborn\n",
    "plt.figure(figsize=(10, 6))\n",
    "sns.scatterplot(data=df, x='temperature', y='label', hue='rainfall', s=100)\n",
    "\n",
    "plt.title('Dot Plot of Temperature vs. Crop with Rainfall')\n",
    "plt.xlabel('Temperature')\n",
    "plt.ylabel('Crop')\n",
    "plt.legend()\n",
    "\n",
    "plt.show()"
   ]
  },
  {
   "cell_type": "code",
   "execution_count": null,
   "id": "9e0f51ea",
   "metadata": {},
   "outputs": [],
   "source": [
    "# Create a dot plot using Seaborn\n",
    "plt.figure(figsize=(10, 6))\n",
    "sns.scatterplot(data=df, x='temperature', y='label', hue='humidity', s=100)\n",
    "\n",
    "plt.title('Dot Plot of Temperature vs. Crop with Humidity')\n",
    "plt.xlabel('Temperature')\n",
    "plt.ylabel('Crop')\n",
    "plt.legend()\n",
    "\n",
    "plt.show()"
   ]
  },
  {
   "cell_type": "code",
   "execution_count": null,
   "id": "ef6b4d59",
   "metadata": {},
   "outputs": [],
   "source": [
    "# Create a dot plot using Seaborn\n",
    "plt.figure(figsize=(10, 6))\n",
    "sns.scatterplot(data=df, x='temperature', y='label', hue='ph', s=100)\n",
    "\n",
    "plt.title('Dot Plot of Temperature vs. Crop with pH')\n",
    "plt.xlabel('Temperature')\n",
    "plt.ylabel('Crop')\n",
    "plt.legend()\n",
    "\n",
    "plt.show()"
   ]
  },
  {
   "cell_type": "code",
   "execution_count": null,
   "id": "c3b26499",
   "metadata": {
    "ExecuteTime": {
     "end_time": "2023-04-29T07:31:15.882866Z",
     "start_time": "2023-04-29T07:31:14.071546Z"
    }
   },
   "outputs": [],
   "source": [
    "#how crops responds to varied temperatures using box plot to visualize the min, max, lower, median, upper quartiles\n",
    "sns.catplot(data=df, x='label', y='temperature', kind='box', height=10, aspect=20/8.27)\n",
    "# plt.xticks(rotation='vertical')\n",
    "plt.title(\"Temperature\", size=20)\n",
    "plt.show()"
   ]
  },
  {
   "cell_type": "code",
   "execution_count": null,
   "id": "6b4a2fe3",
   "metadata": {
    "ExecuteTime": {
     "end_time": "2023-04-29T07:31:16.896920Z",
     "start_time": "2023-04-29T07:31:15.886860Z"
    }
   },
   "outputs": [],
   "source": [
    "#box plot of how the crops respond to humidity\n",
    "sns.catplot(data=df, x='label', y='humidity', kind='box', height=10, aspect=20/8.27)\n",
    "# plt.xticks(rotation='vertical')\n",
    "plt.title(\"Humidity\", size=20)\n",
    "plt.show()"
   ]
  },
  {
   "cell_type": "code",
   "execution_count": null,
   "id": "b13bb0ae",
   "metadata": {
    "ExecuteTime": {
     "end_time": "2023-04-29T07:31:19.115855Z",
     "start_time": "2023-04-29T07:31:18.041855Z"
    }
   },
   "outputs": [],
   "source": [
    "#visuals of how the crops responded to Nitrogen\n",
    "sns.catplot(data=df, x='label', y='N', kind='box', height=10, aspect=20/8.27)\n",
    "plt.title(\"Nitrogen\", size=20)\n",
    "# plt.xticks(rotation='vertical')\n",
    "plt.show()"
   ]
  },
  {
   "cell_type": "code",
   "execution_count": null,
   "id": "758b0e62",
   "metadata": {
    "ExecuteTime": {
     "end_time": "2023-04-29T07:31:20.364694Z",
     "start_time": "2023-04-29T07:31:19.118854Z"
    }
   },
   "outputs": [],
   "source": [
    "#How the crops responded to sality of the soil (PH)\n",
    "sns.catplot(data=df, x='label', y='ph', kind='box', height=10, aspect=20/8.27)\n",
    "# plt.xticks(rotation='vertical')\n",
    "plt.title(\"PH\",size=20)\n",
    "plt.show()"
   ]
  },
  {
   "cell_type": "code",
   "execution_count": null,
   "id": "e300d884",
   "metadata": {
    "ExecuteTime": {
     "end_time": "2023-04-29T07:31:21.374758Z",
     "start_time": "2023-04-29T07:31:20.368692Z"
    }
   },
   "outputs": [],
   "source": [
    "sns.catplot(data=df, x='label', y='P', kind='box', height=10, aspect=20/8.27)\n",
    "# plt.xticks(rotation='vertical')\n",
    "plt.title(\"Phosphorus\",size=20)\n",
    "plt.show()"
   ]
  },
  {
   "cell_type": "code",
   "execution_count": null,
   "id": "9a501513",
   "metadata": {
    "ExecuteTime": {
     "end_time": "2023-04-29T07:31:22.514702Z",
     "start_time": "2023-04-29T07:31:21.378753Z"
    }
   },
   "outputs": [],
   "source": [
    "#how crops responded to Potassium\n",
    "sns.catplot(data=df, x='label', y='K', kind='box', height=10, aspect=20/8.27)\n",
    "# plt.xticks(rotation='vertical')\n",
    "plt.title(\"Potassium\",size=20)\n",
    "plt.show()"
   ]
  },
  {
   "cell_type": "markdown",
   "id": "bf900518",
   "metadata": {},
   "source": [
    "# PREPROCESSING "
   ]
  },
  {
   "cell_type": "markdown",
   "id": "bb040773",
   "metadata": {},
   "source": [
    "## Outlier detection"
   ]
  },
  {
   "cell_type": "code",
   "execution_count": null,
   "id": "6443fb29",
   "metadata": {
    "ExecuteTime": {
     "end_time": "2023-04-29T07:31:22.545670Z",
     "start_time": "2023-04-29T07:31:22.518692Z"
    }
   },
   "outputs": [],
   "source": [
    "def detect_outlier(x):\n",
    "    q1 = x.quantile(0.25)\n",
    "    q3 = x.quantile(0.75)\n",
    "    IQR = q3-q1\n",
    "    lower_limit = q1 - (1.5*IQR) #Lower limit = (class boundary or class midpoint) - (half the width of the interval)\n",
    "    upper_limit = q3 + (1.5*IQR) #Upper limit = (class boundary or class midpoint) + (half the width of the interval)\n",
    "    print(f\"Lower limit: {lower_limit} Upper limit: {upper_limit}\")\n",
    "    print(f\"Minimum value: {x.min()}   MAximum Value: {x.max()}\")\n",
    "    for i in [x.min(),x.max()]:\n",
    "        if i == x.min():\n",
    "            if lower_limit > x.min():\n",
    "                print(\"Lower limit failed - Need to remove minimum value\")\n",
    "            elif lower_limit < x.min():\n",
    "                print(\"Lower limit passed - No need to remove outlier\")\n",
    "        elif i == x.max():\n",
    "            if upper_limit > x.max():\n",
    "                print(\"Upper limit passed - No need to remove outlier\")\n",
    "            elif upper_limit < x.max():\n",
    "                print(\"Upper limit failed - Need to remove maximum value\")\n"
   ]
  },
  {
   "cell_type": "code",
   "execution_count": null,
   "id": "941e3acf",
   "metadata": {
    "ExecuteTime": {
     "end_time": "2023-04-29T07:31:22.846389Z",
     "start_time": "2023-04-29T07:31:22.549664Z"
    }
   },
   "outputs": [],
   "source": [
    "#finding if outliers exist in grapes             \n",
    "detect_outlier(df['K'][df['label']=='grapes']) "
   ]
  },
  {
   "cell_type": "code",
   "execution_count": null,
   "id": "da1b22b4",
   "metadata": {
    "ExecuteTime": {
     "end_time": "2023-04-29T07:31:23.020227Z",
     "start_time": "2023-04-29T07:31:22.863372Z"
    },
    "scrolled": false
   },
   "outputs": [],
   "source": [
    "#checking if outliers exist for crops due to Potassium\n",
    "for i in df['label'].unique():\n",
    "    detect_outlier(df['K'][df['label']==i])\n",
    "    print('---------------------------------------------')"
   ]
  },
  {
   "cell_type": "markdown",
   "id": "a9d4037e",
   "metadata": {
    "ExecuteTime": {
     "end_time": "2023-04-25T16:55:06.485424Z",
     "start_time": "2023-04-25T16:55:06.440458Z"
    }
   },
   "source": [
    "# FEATURE EXTRACTION"
   ]
  },
  {
   "cell_type": "code",
   "execution_count": null,
   "id": "ae29a492",
   "metadata": {
    "ExecuteTime": {
     "end_time": "2023-04-29T07:31:23.068182Z",
     "start_time": "2023-04-29T07:31:23.025222Z"
    }
   },
   "outputs": [],
   "source": [
    "X = df.drop(['label'], axis=1) # our independent variable; removing the label as part of our data and saving the rest as x\n",
    "Y= df['label'] #our dependent variable"
   ]
  },
  {
   "cell_type": "code",
   "execution_count": null,
   "id": "55747412",
   "metadata": {},
   "outputs": [],
   "source": [
    "X.head() #print the first 5 to confirm"
   ]
  },
  {
   "cell_type": "code",
   "execution_count": null,
   "id": "8667f07d",
   "metadata": {},
   "outputs": [],
   "source": [
    "Y.unique() #prints the different crops or target varaibles"
   ]
  },
  {
   "cell_type": "code",
   "execution_count": null,
   "id": "a8b017e2",
   "metadata": {},
   "outputs": [],
   "source": [
    "print(\"Label length of independent variable: \",len(X)) #total X"
   ]
  },
  {
   "cell_type": "code",
   "execution_count": null,
   "id": "f77c2cc3",
   "metadata": {},
   "outputs": [],
   "source": [
    "print(\"Label length of dependent or target variable: \",len(Y)) #total y"
   ]
  },
  {
   "cell_type": "markdown",
   "id": "b715511a",
   "metadata": {},
   "source": [
    "## Finding duplicates"
   ]
  },
  {
   "cell_type": "code",
   "execution_count": null,
   "id": "dd8d323f",
   "metadata": {
    "ExecuteTime": {
     "end_time": "2023-04-29T07:31:23.194063Z",
     "start_time": "2023-04-29T07:31:23.073176Z"
    }
   },
   "outputs": [],
   "source": [
    "df.duplicated().any() #checking for duplicate"
   ]
  },
  {
   "cell_type": "markdown",
   "id": "738fffbe",
   "metadata": {},
   "source": [
    "## Normalizing data"
   ]
  },
  {
   "cell_type": "code",
   "execution_count": null,
   "id": "50a655b0",
   "metadata": {},
   "outputs": [],
   "source": [
    "#ENCODING CATEGORICAL DATA BECAUSE NOT ALL MACHINE LEARNING MODULE CAN HANDLE THAT \n",
    "#also for mathematical calculations, use the ecoded, whenever i need the categorical i will transform it \n",
    "encode = preprocessing.LabelEncoder() #creating an object or instance of LabelEncoder that will help us encode categorical variables into numerical variables\n",
    "y = encode.fit_transform(Y) #transforming a categorical variable Y into numerical values and storing the result in a variable y\n",
    "print(y) "
   ]
  },
  {
   "cell_type": "markdown",
   "id": "cf83efa7",
   "metadata": {},
   "source": [
    "## Spliting data into training and testing sets"
   ]
  },
  {
   "cell_type": "code",
   "execution_count": null,
   "id": "f2818b35",
   "metadata": {
    "ExecuteTime": {
     "end_time": "2023-04-29T07:31:23.525756Z",
     "start_time": "2023-04-29T07:31:23.435840Z"
    }
   },
   "outputs": [],
   "source": [
    "#using the train_test_split function from the model_selection module in scikit-learn to split the dataset x and y into training and testing sets\n",
    "X_train, X_test, y_train, y_test = model_selection.train_test_split(X,Y, test_size=0.25, random_state=42) #default split parameters\n",
    "print(\"the length of x train and test are: \", len(X_train),len(X_test), \"\\nThe length of the y_train and y_test are: \", len(X_test),len(y_test))"
   ]
  },
  {
   "cell_type": "markdown",
   "id": "abdaeb34",
   "metadata": {
    "ExecuteTime": {
     "end_time": "2023-04-25T16:55:07.377887Z",
     "start_time": "2023-04-25T16:55:07.271860Z"
    }
   },
   "source": [
    "# Model Selection and Configurations for Hyperparameter Tuning"
   ]
  },
  {
   "cell_type": "code",
   "execution_count": null,
   "id": "c20603ec",
   "metadata": {
    "ExecuteTime": {
     "end_time": "2023-04-29T07:31:23.683611Z",
     "start_time": "2023-04-29T07:31:23.530753Z"
    }
   },
   "outputs": [],
   "source": [
    "#defining a grid \n",
    "models={\n",
    "    'decision tree' : {\n",
    "        'model' : DecisionTreeClassifier(criterion='gini'),\n",
    "        'params': {\n",
    "            'decisiontreeclassifier__splitter':['best','random']\n",
    "        }\n",
    "    },\n",
    "    \n",
    "    \n",
    "    'svm': {\n",
    "        'model': SVC(gamma='auto',probability=True),\n",
    "        'params' : {\n",
    "            'svc__C': [1,10,100,1000],\n",
    "            'svc__kernel': ['rbf','linear']\n",
    "        }  \n",
    "    },\n",
    "    \n",
    "    'random_forest': {\n",
    "        'model': RandomForestClassifier(),\n",
    "        'params' : {\n",
    "            'randomforestclassifier__n_estimators': [1,5,10]\n",
    "        }\n",
    "    },\n",
    "    \n",
    "   'k classifier':{\n",
    "       'model':KNeighborsClassifier(),\n",
    "       'params':{\n",
    "           'kneighborsclassifier__n_neighbors':[5,10,20,25],\n",
    "           'kneighborsclassifier__weights':['uniform','distance']\n",
    "       }\n",
    "   }\n",
    "}"
   ]
  },
  {
   "cell_type": "markdown",
   "id": "92c76654",
   "metadata": {},
   "source": [
    "## Performing Hyperparameter Tuning and Model Evaluation Pipeline"
   ]
  },
  {
   "cell_type": "code",
   "execution_count": null,
   "id": "77e7cf4a",
   "metadata": {
    "scrolled": false
   },
   "outputs": [],
   "source": [
    "# Define classification-specific scoring metrics\n",
    "scoring = {\n",
    "    'Accuracy': make_scorer(accuracy_score),  # Scoring metric for accuracy\n",
    "    'Precision': make_scorer(precision_score, average='weighted'),  # Scoring metric for precision\n",
    "    'Recall': make_scorer(recall_score, average='weighted'),  # Scoring metric for recall\n",
    "    'F1-Score': make_scorer(f1_score, average='weighted'),  # Scoring metric for F1-score\n",
    "}\n",
    "\n",
    "# Lists to store results\n",
    "results = []  # Store metrics for each model\n",
    "details = []  # Store details of hyperparameter search for each model\n",
    "best_estimators = {}  # Store the best estimators for each model\n",
    "\n",
    "# Loop through each model configuration\n",
    "for model_name, config in models.items():\n",
    "    # Create a pipeline that includes data preprocessing and the specified model\n",
    "    pipeline = make_pipeline(preprocessing.StandardScaler(), config['model'])\n",
    "\n",
    "    # Perform hyperparameter tuning using GridSearchCV\n",
    "    grid_search = model_selection.GridSearchCV(\n",
    "        pipeline, config['params'], cv=5, scoring=scoring, refit='Accuracy'  # Cross-validation with specified metrics\n",
    "    )\n",
    "    \n",
    "    # Fit the grid search to the training data\n",
    "    grid_search.fit(X_train, y_train)  \n",
    "\n",
    "    # Perform nested cross-validation on trained grid_search\n",
    "    nested_scores = model_selection.cross_validate(\n",
    "        grid_search, X_train, y_train, cv=5, scoring=scoring  # Nested cross-validation for evaluating the model\n",
    "    )\n",
    "\n",
    "    # Store results for the current model configuration\n",
    "    results.append({\n",
    "        'Model': model_name,\n",
    "        'Best Accuracy': grid_search.best_score_,  # Best accuracy achieved during hyperparameter tuning\n",
    "        'Best Params': grid_search.best_params_,  # Best hyperparameters found during tuning\n",
    "        'Accuracy': nested_scores['test_Accuracy'].mean(),  # Average accuracy across cross-validation folds\n",
    "        'Precision': nested_scores['test_Precision'].mean(),  # Average precision across cross-validation folds\n",
    "        'Recall': nested_scores['test_Recall'].mean(),  # Average recall across cross-validation folds\n",
    "        'F1-Score': nested_scores['test_F1-Score'].mean(),  # Average F1-score across cross-validation folds\n",
    "\n",
    "    })\n",
    "    \n",
    "\n",
    "    details.append(pd.DataFrame(grid_search.cv_results_))  # Store details of hyperparameter search\n",
    "    best_estimators[model_name] = grid_search.best_estimator_  # Store the best estimator found\n",
    "\n",
    "# Create a DataFrame to display the results\n",
    "result_df = pd.DataFrame(results)\n",
    "# Print the results\n",
    "result_df\n"
   ]
  },
  {
   "cell_type": "code",
   "execution_count": null,
   "id": "0dd50eaa",
   "metadata": {
    "ExecuteTime": {
     "end_time": "2023-04-29T07:41:40.258302Z",
     "start_time": "2023-04-29T07:41:40.152401Z"
    }
   },
   "outputs": [],
   "source": [
    "details[0] #checking the details of the best performing machine learning model"
   ]
  },
  {
   "cell_type": "code",
   "execution_count": null,
   "id": "00cbfb27",
   "metadata": {
    "ExecuteTime": {
     "end_time": "2023-04-29T07:41:40.400172Z",
     "start_time": "2023-04-29T07:41:40.262298Z"
    }
   },
   "outputs": [],
   "source": [
    "details[1]"
   ]
  },
  {
   "cell_type": "code",
   "execution_count": null,
   "id": "d6aa755e",
   "metadata": {
    "ExecuteTime": {
     "end_time": "2023-04-29T07:41:40.525054Z",
     "start_time": "2023-04-29T07:41:40.406166Z"
    }
   },
   "outputs": [],
   "source": [
    "details[2]"
   ]
  },
  {
   "cell_type": "code",
   "execution_count": null,
   "id": "36b2a300",
   "metadata": {
    "ExecuteTime": {
     "end_time": "2023-04-29T07:41:40.683907Z",
     "start_time": "2023-04-29T07:41:40.530050Z"
    }
   },
   "outputs": [],
   "source": [
    "details[3]"
   ]
  },
  {
   "cell_type": "code",
   "execution_count": null,
   "id": "7e9eeb39",
   "metadata": {
    "ExecuteTime": {
     "end_time": "2023-04-29T07:41:40.775822Z",
     "start_time": "2023-04-29T07:41:40.688901Z"
    }
   },
   "outputs": [],
   "source": [
    "results #print the whole score "
   ]
  },
  {
   "cell_type": "code",
   "execution_count": null,
   "id": "fe54156a",
   "metadata": {
    "ExecuteTime": {
     "end_time": "2023-04-29T07:41:40.903700Z",
     "start_time": "2023-04-29T07:41:40.781815Z"
    }
   },
   "outputs": [],
   "source": [
    "pd.DataFrame(results) #creating a datafram for score"
   ]
  },
  {
   "cell_type": "markdown",
   "id": "0861288c",
   "metadata": {},
   "source": [
    "## True accuracy "
   ]
  },
  {
   "cell_type": "code",
   "execution_count": null,
   "id": "4557c6b6",
   "metadata": {
    "ExecuteTime": {
     "end_time": "2023-04-29T07:41:41.944732Z",
     "start_time": "2023-04-29T07:41:40.907698Z"
    }
   },
   "outputs": [],
   "source": [
    "#printing the results using the key\n",
    "for i in best_estimators.keys():\n",
    "    print(f'{i} : {best_estimators[i].score(X_test,y_test)}')"
   ]
  },
  {
   "cell_type": "markdown",
   "id": "81cb1c3d",
   "metadata": {
    "ExecuteTime": {
     "end_time": "2023-04-25T17:07:41.492141Z",
     "start_time": "2023-04-25T17:07:41.483150Z"
    }
   },
   "source": [
    "PREDICTION WITH BEST MODEL"
   ]
  },
  {
   "cell_type": "code",
   "execution_count": null,
   "id": "ab46f7b3",
   "metadata": {
    "ExecuteTime": {
     "end_time": "2023-04-29T07:41:41.975708Z",
     "start_time": "2023-04-29T07:41:41.948730Z"
    }
   },
   "outputs": [],
   "source": [
    "#use the best machine learning model to predict our text data\n",
    "y_pred = best_estimators['random_forest'].predict(X_test)"
   ]
  },
  {
   "cell_type": "markdown",
   "id": "d1498221",
   "metadata": {},
   "source": [
    "CLASSIFICATION REPORT"
   ]
  },
  {
   "cell_type": "code",
   "execution_count": null,
   "id": "6be2ad9a",
   "metadata": {},
   "outputs": [],
   "source": [
    "#inverse transform from numerical data to categorical data to see the crops and not their numerical representation\n",
    "print(classification_report(encode.inverse_transform(y_test), encode.inverse_transform(y_pred)))"
   ]
  },
  {
   "cell_type": "markdown",
   "id": "e670e244",
   "metadata": {},
   "source": [
    "CONFUSION MATRIX OF BEST MODEL"
   ]
  },
  {
   "cell_type": "code",
   "execution_count": null,
   "id": "6421ec8d",
   "metadata": {
    "ExecuteTime": {
     "end_time": "2023-04-29T07:41:44.824848Z",
     "start_time": "2023-04-29T07:41:41.984701Z"
    }
   },
   "outputs": [],
   "source": [
    "#constructing a confusion matrix of the y_test and predicted\n",
    "plt.figure(figsize=(12,8)) #create a 12x8 plot \n",
    "sns.heatmap(confusion_matrix(y_test, y_pred),annot=True) #generate a heatmap of the created confusion matrix of the y_test and the predict\n",
    "plt.xlabel(\"Original\")\n",
    "plt.ylabel(\"Predicted\")\n",
    "plt.show()"
   ]
  },
  {
   "cell_type": "markdown",
   "id": "05b3ee98",
   "metadata": {},
   "source": [
    "ROC AUC"
   ]
  },
  {
   "cell_type": "code",
   "execution_count": null,
   "id": "2b36b640",
   "metadata": {},
   "outputs": [],
   "source": [
    "# Predict class probabilities using predict_proba\n",
    "y_probs = best_estimators['random_forest'].predict_proba(X_test)\n",
    "\n",
    "# Binarize the labels\n",
    "y_test_binarized = label_binarize(y_test, classes=range(20))\n",
    "\n",
    "# Compute ROC curve and ROC AUC for each class\n",
    "fpr = dict()\n",
    "tpr = dict()\n",
    "roc_auc = dict()\n",
    "\n",
    "for i in range((20)):\n",
    "    fpr[i], tpr[i], _ = roc_curve(y_test_binarized[:, i], y_probs[:, i])\n",
    "    roc_auc[i] = auc(fpr[i], tpr[i])\n",
    "\n",
    "# Plot ROC curves\n",
    "plt.figure(figsize=(10, 8))\n",
    "for i in range(20):\n",
    "    plt.plot(fpr[i], tpr[i], label='Class {}: AUC = {:.2f}'.format(i, roc_auc[i]))\n",
    "\n",
    "plt.plot([0, 1], [0, 1], 'k--', label='Random')\n",
    "plt.xlim([0.0, 1.0])\n",
    "plt.ylim([0.0, 1.05])\n",
    "plt.xlabel('False Positive Rate')\n",
    "plt.ylabel('True Positive Rate')\n",
    "plt.title('ROC Curve')\n",
    "plt.legend(loc=\"lower right\")\n",
    "plt.show()\n"
   ]
  },
  {
   "cell_type": "markdown",
   "id": "a68d7156",
   "metadata": {},
   "source": [
    "PREDICTION"
   ]
  },
  {
   "cell_type": "code",
   "execution_count": null,
   "id": "6674d340",
   "metadata": {},
   "outputs": [],
   "source": [
    "# data = pd.DataFrame([[N, P, K, temperature, humidity, ph, rainfall]], columns=['N', 'P', 'K', 'temperature', 'humidity', 'ph', 'rainfall'])\n",
    "data = np.array([[104,18, 30, 23.603016, 60.3, 6.7, 140.91]]) \n",
    "yP = grid_search.predict(data)\n",
    "encode.inverse_transform(yP)"
   ]
  },
  {
   "cell_type": "code",
   "execution_count": null,
   "id": "acd3811f",
   "metadata": {},
   "outputs": [],
   "source": [
    "\n",
    "\n"
   ]
  },
  {
   "cell_type": "markdown",
   "id": "e96084ba",
   "metadata": {
    "ExecuteTime": {
     "end_time": "2023-04-25T17:07:46.075774Z",
     "start_time": "2023-04-25T17:07:46.064785Z"
    }
   },
   "source": [
    "# USING AN ENSEMBLE FOR MORE ACCURACY"
   ]
  },
  {
   "cell_type": "markdown",
   "id": "be983299",
   "metadata": {},
   "source": [
    "## BAGGING OR BOOSTRAP AGGREGATING CLASSIFIER"
   ]
  },
  {
   "cell_type": "markdown",
   "id": "e9fbd904",
   "metadata": {},
   "source": [
    "Base Models: Bagging involves training multiple instances of the same base model on different subsets of the training data. Each instance is trained on a randomly sampled subset with replacement (bootstrap samples)."
   ]
  },
  {
   "cell_type": "markdown",
   "id": "10b165cb",
   "metadata": {},
   "source": [
    "Parallelism: The base models in bagging are trained in parallel, which makes it suitable for parallel computing environments."
   ]
  },
  {
   "cell_type": "markdown",
   "id": "312e3196",
   "metadata": {},
   "source": [
    "Aggregation: For classification problems, bagging aggregates the predictions using majority voting (mode of class labels). For regression problems, it aggregates the predictions using the mean (average) of individual model predictions."
   ]
  },
  {
   "cell_type": "markdown",
   "id": "6ff4db60",
   "metadata": {},
   "source": [
    "Example Algorithms: Random Forest is a popular bagging algorithm that uses decision trees as base models. Each tree is trained on a different subset of the data."
   ]
  },
  {
   "cell_type": "markdown",
   "id": "1818bd69",
   "metadata": {},
   "source": [
    "Purpose: Bagging reduces variance and overfitting by combining predictions from multiple models trained on diverse subsets of the data."
   ]
  },
  {
   "cell_type": "markdown",
   "id": "8976b61d",
   "metadata": {},
   "source": [
    "# Creating and Training a Bagging Classifier Ensemble with Random Forest Base Estimators"
   ]
  },
  {
   "cell_type": "code",
   "execution_count": null,
   "id": "9c65a832",
   "metadata": {},
   "outputs": [],
   "source": []
  },
  {
   "cell_type": "code",
   "execution_count": 53,
   "id": "c4418f97",
   "metadata": {
    "ExecuteTime": {
     "end_time": "2023-04-29T07:42:06.649546Z",
     "start_time": "2023-04-29T07:41:44.828837Z"
    }
   },
   "outputs": [
    {
     "data": {
      "text/html": [
       "<style>#sk-container-id-1 {color: black;background-color: white;}#sk-container-id-1 pre{padding: 0;}#sk-container-id-1 div.sk-toggleable {background-color: white;}#sk-container-id-1 label.sk-toggleable__label {cursor: pointer;display: block;width: 100%;margin-bottom: 0;padding: 0.3em;box-sizing: border-box;text-align: center;}#sk-container-id-1 label.sk-toggleable__label-arrow:before {content: \"▸\";float: left;margin-right: 0.25em;color: #696969;}#sk-container-id-1 label.sk-toggleable__label-arrow:hover:before {color: black;}#sk-container-id-1 div.sk-estimator:hover label.sk-toggleable__label-arrow:before {color: black;}#sk-container-id-1 div.sk-toggleable__content {max-height: 0;max-width: 0;overflow: hidden;text-align: left;background-color: #f0f8ff;}#sk-container-id-1 div.sk-toggleable__content pre {margin: 0.2em;color: black;border-radius: 0.25em;background-color: #f0f8ff;}#sk-container-id-1 input.sk-toggleable__control:checked~div.sk-toggleable__content {max-height: 200px;max-width: 100%;overflow: auto;}#sk-container-id-1 input.sk-toggleable__control:checked~label.sk-toggleable__label-arrow:before {content: \"▾\";}#sk-container-id-1 div.sk-estimator input.sk-toggleable__control:checked~label.sk-toggleable__label {background-color: #d4ebff;}#sk-container-id-1 div.sk-label input.sk-toggleable__control:checked~label.sk-toggleable__label {background-color: #d4ebff;}#sk-container-id-1 input.sk-hidden--visually {border: 0;clip: rect(1px 1px 1px 1px);clip: rect(1px, 1px, 1px, 1px);height: 1px;margin: -1px;overflow: hidden;padding: 0;position: absolute;width: 1px;}#sk-container-id-1 div.sk-estimator {font-family: monospace;background-color: #f0f8ff;border: 1px dotted black;border-radius: 0.25em;box-sizing: border-box;margin-bottom: 0.5em;}#sk-container-id-1 div.sk-estimator:hover {background-color: #d4ebff;}#sk-container-id-1 div.sk-parallel-item::after {content: \"\";width: 100%;border-bottom: 1px solid gray;flex-grow: 1;}#sk-container-id-1 div.sk-label:hover label.sk-toggleable__label {background-color: #d4ebff;}#sk-container-id-1 div.sk-serial::before {content: \"\";position: absolute;border-left: 1px solid gray;box-sizing: border-box;top: 0;bottom: 0;left: 50%;z-index: 0;}#sk-container-id-1 div.sk-serial {display: flex;flex-direction: column;align-items: center;background-color: white;padding-right: 0.2em;padding-left: 0.2em;position: relative;}#sk-container-id-1 div.sk-item {position: relative;z-index: 1;}#sk-container-id-1 div.sk-parallel {display: flex;align-items: stretch;justify-content: center;background-color: white;position: relative;}#sk-container-id-1 div.sk-item::before, #sk-container-id-1 div.sk-parallel-item::before {content: \"\";position: absolute;border-left: 1px solid gray;box-sizing: border-box;top: 0;bottom: 0;left: 50%;z-index: -1;}#sk-container-id-1 div.sk-parallel-item {display: flex;flex-direction: column;z-index: 1;position: relative;background-color: white;}#sk-container-id-1 div.sk-parallel-item:first-child::after {align-self: flex-end;width: 50%;}#sk-container-id-1 div.sk-parallel-item:last-child::after {align-self: flex-start;width: 50%;}#sk-container-id-1 div.sk-parallel-item:only-child::after {width: 0;}#sk-container-id-1 div.sk-dashed-wrapped {border: 1px dashed gray;margin: 0 0.4em 0.5em 0.4em;box-sizing: border-box;padding-bottom: 0.4em;background-color: white;}#sk-container-id-1 div.sk-label label {font-family: monospace;font-weight: bold;display: inline-block;line-height: 1.2em;}#sk-container-id-1 div.sk-label-container {text-align: center;}#sk-container-id-1 div.sk-container {/* jupyter's `normalize.less` sets `[hidden] { display: none; }` but bootstrap.min.css set `[hidden] { display: none !important; }` so we also need the `!important` here to be able to override the default hidden behavior on the sphinx rendered scikit-learn.org. See: https://github.com/scikit-learn/scikit-learn/issues/21755 */display: inline-block !important;position: relative;}#sk-container-id-1 div.sk-text-repr-fallback {display: none;}</style><div id=\"sk-container-id-1\" class=\"sk-top-container\"><div class=\"sk-text-repr-fallback\"><pre>BaggingClassifier(base_estimator=Pipeline(steps=[(&#x27;standardscaler&#x27;,\n",
       "                                                  StandardScaler()),\n",
       "                                                 (&#x27;randomforestclassifier&#x27;,\n",
       "                                                  RandomForestClassifier(n_estimators=10))]),\n",
       "                  max_samples=0.8, n_estimators=100, oob_score=True,\n",
       "                  random_state=0)</pre><b>In a Jupyter environment, please rerun this cell to show the HTML representation or trust the notebook. <br />On GitHub, the HTML representation is unable to render, please try loading this page with nbviewer.org.</b></div><div class=\"sk-container\" hidden><div class=\"sk-item sk-dashed-wrapped\"><div class=\"sk-label-container\"><div class=\"sk-label sk-toggleable\"><input class=\"sk-toggleable__control sk-hidden--visually\" id=\"sk-estimator-id-1\" type=\"checkbox\" ><label for=\"sk-estimator-id-1\" class=\"sk-toggleable__label sk-toggleable__label-arrow\">BaggingClassifier</label><div class=\"sk-toggleable__content\"><pre>BaggingClassifier(base_estimator=Pipeline(steps=[(&#x27;standardscaler&#x27;,\n",
       "                                                  StandardScaler()),\n",
       "                                                 (&#x27;randomforestclassifier&#x27;,\n",
       "                                                  RandomForestClassifier(n_estimators=10))]),\n",
       "                  max_samples=0.8, n_estimators=100, oob_score=True,\n",
       "                  random_state=0)</pre></div></div></div><div class=\"sk-parallel\"><div class=\"sk-parallel-item\"><div class=\"sk-item\"><div class=\"sk-label-container\"><div class=\"sk-label sk-toggleable\"><input class=\"sk-toggleable__control sk-hidden--visually\" id=\"sk-estimator-id-2\" type=\"checkbox\" ><label for=\"sk-estimator-id-2\" class=\"sk-toggleable__label sk-toggleable__label-arrow\">base_estimator: Pipeline</label><div class=\"sk-toggleable__content\"><pre>Pipeline(steps=[(&#x27;standardscaler&#x27;, StandardScaler()),\n",
       "                (&#x27;randomforestclassifier&#x27;,\n",
       "                 RandomForestClassifier(n_estimators=10))])</pre></div></div></div><div class=\"sk-serial\"><div class=\"sk-item\"><div class=\"sk-serial\"><div class=\"sk-item\"><div class=\"sk-estimator sk-toggleable\"><input class=\"sk-toggleable__control sk-hidden--visually\" id=\"sk-estimator-id-3\" type=\"checkbox\" ><label for=\"sk-estimator-id-3\" class=\"sk-toggleable__label sk-toggleable__label-arrow\">StandardScaler</label><div class=\"sk-toggleable__content\"><pre>StandardScaler()</pre></div></div></div><div class=\"sk-item\"><div class=\"sk-estimator sk-toggleable\"><input class=\"sk-toggleable__control sk-hidden--visually\" id=\"sk-estimator-id-4\" type=\"checkbox\" ><label for=\"sk-estimator-id-4\" class=\"sk-toggleable__label sk-toggleable__label-arrow\">RandomForestClassifier</label><div class=\"sk-toggleable__content\"><pre>RandomForestClassifier(n_estimators=10)</pre></div></div></div></div></div></div></div></div></div></div></div></div>"
      ],
      "text/plain": [
       "BaggingClassifier(base_estimator=Pipeline(steps=[('standardscaler',\n",
       "                                                  StandardScaler()),\n",
       "                                                 ('randomforestclassifier',\n",
       "                                                  RandomForestClassifier(n_estimators=10))]),\n",
       "                  max_samples=0.8, n_estimators=100, oob_score=True,\n",
       "                  random_state=0)"
      ]
     },
     "execution_count": 53,
     "metadata": {},
     "output_type": "execute_result"
    }
   ],
   "source": [
    "#creating a pipeline with make_pipeline to chain together multiple data preprocising\n",
    "#StandardScalr()  standardizes the input data by subtracting the mean and scaling to unit variance\n",
    "#RandomForestClassifier is a machine learning model that constructs multiple decision trees on randomly selected subsets of the training data and aggregates their predictions to make a final prediction\n",
    "pipe1 = make_pipeline(preprocessing.StandardScaler(), RandomForestClassifier(n_estimators = 10)) #\n",
    "\n",
    "# BaggingClassifier trains multiple instances of a base estimator (such as a decision tree, k-nearest neighbors, or logistic regression) on different subsets of the training data and aggregates their predictions to make a final prediction.\n",
    "bag_model = BaggingClassifier(base_estimator=pipe1,n_estimators=100,\n",
    "                              oob_score=True,random_state=0, max_samples=0.8)\n",
    "\n",
    "#repeated this because i am not using svm or knn, and bagging can handle categorical data\n",
    "X_train,X_test,y_train,y_test = model_selection.train_test_split(X,Y, test_size=0.25, random_state=42) #default split parameters\n",
    "\n",
    "bag_model.fit(X_train,y_train) #training the module"
   ]
  },
  {
   "cell_type": "code",
   "execution_count": 54,
   "id": "a7226668",
   "metadata": {},
   "outputs": [],
   "source": [
    "y_pred_bg = bag_model.predict(X_test) #would generate predicted labels for the test data x_test using the BaggingClassifier model that was trained earlier."
   ]
  },
  {
   "cell_type": "code",
   "execution_count": 55,
   "id": "cf449f6c",
   "metadata": {},
   "outputs": [
    {
     "data": {
      "text/plain": [
       "0.9890909090909091"
      ]
     },
     "execution_count": 55,
     "metadata": {},
     "output_type": "execute_result"
    }
   ],
   "source": [
    "#calculating the score\n",
    "bg_score = bag_model.score(X_test, y_test) #bag_model.score(x_test,y_test) would calculate the mean accuracy of the BaggingClassifier model on the test data x_test and y_test\n",
    "bg_score"
   ]
  },
  {
   "cell_type": "code",
   "execution_count": 56,
   "id": "b1d56f28",
   "metadata": {},
   "outputs": [
    {
     "data": {
      "text/plain": [
       "0.9890909090909091"
      ]
     },
     "execution_count": 56,
     "metadata": {},
     "output_type": "execute_result"
    }
   ],
   "source": [
    "#calculating the score\n",
    "bg_score = accuracy_score(y_test, y_pred_bg) #bag_model.score(x_test,y_test) would calculate the mean accuracy of the BaggingClassifier model on the test data x_test and y_test\n",
    "bg_score"
   ]
  },
  {
   "cell_type": "code",
   "execution_count": null,
   "id": "25e8c31b",
   "metadata": {},
   "outputs": [],
   "source": []
  },
  {
   "cell_type": "markdown",
   "id": "c947dcd1",
   "metadata": {},
   "source": [
    "CLASSIFICATION REPORT BAGGING"
   ]
  },
  {
   "cell_type": "code",
   "execution_count": 57,
   "id": "3b67a3bc",
   "metadata": {},
   "outputs": [
    {
     "name": "stdout",
     "output_type": "stream",
     "text": [
      "              precision    recall  f1-score   support\n",
      "\n",
      "       apple       1.00      1.00      1.00        29\n",
      "      banana       1.00      1.00      1.00        23\n",
      "   blackgram       1.00      1.00      1.00        24\n",
      "    chickpea       1.00      1.00      1.00        31\n",
      "     coconut       1.00      1.00      1.00        27\n",
      "      coffee       1.00      1.00      1.00        26\n",
      "      cotton       1.00      1.00      1.00        21\n",
      "      grapes       1.00      1.00      1.00        19\n",
      "        jute       0.82      1.00      0.90        27\n",
      " kidneybeans       1.00      1.00      1.00        24\n",
      "      lentil       1.00      1.00      1.00        15\n",
      "       maize       1.00      1.00      1.00        23\n",
      "       mango       1.00      1.00      1.00        27\n",
      "   mothbeans       1.00      1.00      1.00        26\n",
      "    mungbean       1.00      1.00      1.00        26\n",
      "   muskmelon       1.00      1.00      1.00        22\n",
      "      orange       1.00      1.00      1.00        19\n",
      "      papaya       1.00      1.00      1.00        31\n",
      "  pigeonpeas       1.00      1.00      1.00        34\n",
      " pomegranate       1.00      1.00      1.00        30\n",
      "        rice       1.00      0.76      0.86        25\n",
      "  watermelon       1.00      1.00      1.00        21\n",
      "\n",
      "    accuracy                           0.99       550\n",
      "   macro avg       0.99      0.99      0.99       550\n",
      "weighted avg       0.99      0.99      0.99       550\n",
      "\n"
     ]
    }
   ],
   "source": [
    "#inverse transform from numerical data to categorical data to see the crops and not their numerical representation\n",
    "print(classification_report((y_test), (y_pred_bg)))"
   ]
  },
  {
   "cell_type": "markdown",
   "id": "24ead273",
   "metadata": {},
   "source": [
    "CONFUSION MATRIX FOR BAGGING"
   ]
  },
  {
   "cell_type": "code",
   "execution_count": 58,
   "id": "85c19d79",
   "metadata": {
    "ExecuteTime": {
     "end_time": "2023-04-29T07:42:06.664538Z",
     "start_time": "2023-04-29T07:42:06.653544Z"
    }
   },
   "outputs": [
    {
     "data": {
      "image/png": "[encoded data removed]",
      "text/plain": [
       "<Figure size 1200x800 with 2 Axes>"
      ]
     },
     "metadata": {},
     "output_type": "display_data"
    }
   ],
   "source": [
    "#constructing a confusion matrix of the y_test and predicted\n",
    "plt.figure(figsize=(12,8)) #create a 12x8 plot \n",
    "sns.heatmap(confusion_matrix((y_test), (y_pred_bg)),annot=True) #generate a heatmap of the created confusion matrix of the y_test and the predict\n",
    "plt.xlabel(\"Original\")\n",
    "plt.ylabel(\"Predicted\")\n",
    "plt.show()"
   ]
  },
  {
   "cell_type": "markdown",
   "id": "2af8dd6b",
   "metadata": {},
   "source": [
    "ROC AUC BAGGING"
   ]
  },
  {
   "cell_type": "code",
   "execution_count": null,
   "id": "4c173b3d",
   "metadata": {},
   "outputs": [],
   "source": []
  },
  {
   "cell_type": "code",
   "execution_count": 59,
   "id": "746b3e27",
   "metadata": {},
   "outputs": [
    {
     "data": {
      "image/png": "[encoded data removed]",
      "text/plain": [
       "<Figure size 1000x800 with 1 Axes>"
      ]
     },
     "metadata": {},
     "output_type": "display_data"
    }
   ],
   "source": [
    "# Predict class probabilities using predict_proba\n",
    "y_probs_bg = bag_model.predict_proba(X_test)\n",
    "\n",
    "# Binarize the labels\n",
    "y_test_binarized_bg = label_binarize(y_test, classes=range(20))\n",
    "\n",
    "# Compute ROC curve and ROC AUC for each class\n",
    "fpr = dict()\n",
    "tpr = dict()\n",
    "roc_auc = dict()\n",
    "\n",
    "for i in range((20)):\n",
    "    fpr[i], tpr[i], _ = roc_curve(y_test_binarized_bg[:, i], y_probs_bg[:, i])\n",
    "    roc_auc[i] = auc(fpr[i], tpr[i])\n",
    "\n",
    "# Plot ROC curves\n",
    "plt.figure(figsize=(10, 8))\n",
    "for i in range(20):\n",
    "    plt.plot(fpr[i], tpr[i], label='Class {}: AUC = {:.2f}'.format(i, roc_auc[i]))\n",
    "\n",
    "plt.plot([0, 1], [0, 1], 'k--', label='Random')\n",
    "plt.xlim([0.0, 1.0])\n",
    "plt.ylim([0.0, 1.05])\n",
    "plt.xlabel('False Positive Rate')\n",
    "plt.ylabel('True Positive Rate')\n",
    "plt.title('ROC Curve')\n",
    "plt.legend(loc=\"lower right\")\n",
    "plt.show()\n"
   ]
  },
  {
   "cell_type": "markdown",
   "id": "7b1cd8ba",
   "metadata": {},
   "source": [
    "PREDICTION "
   ]
  },
  {
   "cell_type": "code",
   "execution_count": 60,
   "id": "375a4bd4",
   "metadata": {},
   "outputs": [
    {
     "data": {
      "text/plain": [
       "array(['coffee'], dtype=object)"
      ]
     },
     "execution_count": 60,
     "metadata": {},
     "output_type": "execute_result"
    }
   ],
   "source": [
    "# data = pd.DataFrame([[N, P, K, temperature, humidity, ph, rainfall]], columns=['N', 'P', 'K', 'temperature', 'humidity', 'ph', 'rainfall'])\n",
    "data = np.array([[104,18, 30, 23.603016, 60.3, 6.7, 140.91]]) \n",
    "yP = bag_model.predict(data)\n",
    "# encode.inverse_transform(yP)\n",
    "yP"
   ]
  },
  {
   "cell_type": "code",
   "execution_count": 61,
   "id": "0851652c",
   "metadata": {
    "ExecuteTime": {
     "end_time": "2023-04-29T07:42:06.806403Z",
     "start_time": "2023-04-29T07:42:06.670529Z"
    }
   },
   "outputs": [],
   "source": [
    "#final score of bagging classifier"
   ]
  },
  {
   "cell_type": "code",
   "execution_count": 62,
   "id": "27cacb98",
   "metadata": {
    "ExecuteTime": {
     "end_time": "2023-04-29T07:42:07.293143Z",
     "start_time": "2023-04-29T07:42:07.139784Z"
    }
   },
   "outputs": [
    {
     "data": {
      "text/plain": [
       "0.9890909090909091"
      ]
     },
     "execution_count": 62,
     "metadata": {},
     "output_type": "execute_result"
    }
   ],
   "source": [
    "accuracy = accuracy_score(y_test, y_pred_bg)\n",
    "accuracy"
   ]
  },
  {
   "cell_type": "code",
   "execution_count": null,
   "id": "8144b433",
   "metadata": {
    "ExecuteTime": {
     "end_time": "2023-04-29T07:42:07.434027Z",
     "start_time": "2023-04-29T07:42:07.302126Z"
    }
   },
   "outputs": [],
   "source": []
  },
  {
   "cell_type": "code",
   "execution_count": null,
   "id": "3c98c94e",
   "metadata": {},
   "outputs": [],
   "source": [
    "\n",
    "\n",
    "\n"
   ]
  },
  {
   "cell_type": "markdown",
   "id": "a58971f5",
   "metadata": {},
   "source": [
    "## VOTING CLASSIFIER "
   ]
  },
  {
   "cell_type": "markdown",
   "id": "cabd7611",
   "metadata": {},
   "source": [
    "Base Models: Voting involves training multiple different base models on the same training data."
   ]
  },
  {
   "cell_type": "markdown",
   "id": "0873e199",
   "metadata": {},
   "source": [
    "Combination: In classification problems, a voting classifier combines the predictions of its individual base models to make the final prediction. It can use different strategies, such as majority voting (hard voting) or weighted average of class probabilities (soft voting)."
   ]
  },
  {
   "cell_type": "markdown",
   "id": "cc62bc4b",
   "metadata": {},
   "source": [
    "Example Algorithms: A voting classifier can combine predictions from diverse algorithms, such as Decision Trees, Support Vector Machines (SVM), and k-Nearest Neighbors (k-NN)."
   ]
  },
  {
   "cell_type": "markdown",
   "id": "3b9791a3",
   "metadata": {},
   "source": [
    "Purpose: Voting is used to improve generalization and robustness by combining predictions from different models that may have complementary strengths."
   ]
  },
  {
   "cell_type": "markdown",
   "id": "a8a0bb1d",
   "metadata": {},
   "source": [
    "When using \"hard\" voting, the final prediction is based on the majority class predicted by the base models. When using \"soft\" voting, the final prediction is based on the class probabilities (confidence) predicted by the base models."
   ]
  },
  {
   "cell_type": "markdown",
   "id": "f490603c",
   "metadata": {},
   "source": [
    "## Creating and Training a Voting Classifier Ensemble for Multiple Classification Algorithms"
   ]
  },
  {
   "cell_type": "code",
   "execution_count": 63,
   "id": "21a8b4e9",
   "metadata": {},
   "outputs": [
    {
     "data": {
      "text/html": [
       "<style>#sk-container-id-2 {color: black;background-color: white;}#sk-container-id-2 pre{padding: 0;}#sk-container-id-2 div.sk-toggleable {background-color: white;}#sk-container-id-2 label.sk-toggleable__label {cursor: pointer;display: block;width: 100%;margin-bottom: 0;padding: 0.3em;box-sizing: border-box;text-align: center;}#sk-container-id-2 label.sk-toggleable__label-arrow:before {content: \"▸\";float: left;margin-right: 0.25em;color: #696969;}#sk-container-id-2 label.sk-toggleable__label-arrow:hover:before {color: black;}#sk-container-id-2 div.sk-estimator:hover label.sk-toggleable__label-arrow:before {color: black;}#sk-container-id-2 div.sk-toggleable__content {max-height: 0;max-width: 0;overflow: hidden;text-align: left;background-color: #f0f8ff;}#sk-container-id-2 div.sk-toggleable__content pre {margin: 0.2em;color: black;border-radius: 0.25em;background-color: #f0f8ff;}#sk-container-id-2 input.sk-toggleable__control:checked~div.sk-toggleable__content {max-height: 200px;max-width: 100%;overflow: auto;}#sk-container-id-2 input.sk-toggleable__control:checked~label.sk-toggleable__label-arrow:before {content: \"▾\";}#sk-container-id-2 div.sk-estimator input.sk-toggleable__control:checked~label.sk-toggleable__label {background-color: #d4ebff;}#sk-container-id-2 div.sk-label input.sk-toggleable__control:checked~label.sk-toggleable__label {background-color: #d4ebff;}#sk-container-id-2 input.sk-hidden--visually {border: 0;clip: rect(1px 1px 1px 1px);clip: rect(1px, 1px, 1px, 1px);height: 1px;margin: -1px;overflow: hidden;padding: 0;position: absolute;width: 1px;}#sk-container-id-2 div.sk-estimator {font-family: monospace;background-color: #f0f8ff;border: 1px dotted black;border-radius: 0.25em;box-sizing: border-box;margin-bottom: 0.5em;}#sk-container-id-2 div.sk-estimator:hover {background-color: #d4ebff;}#sk-container-id-2 div.sk-parallel-item::after {content: \"\";width: 100%;border-bottom: 1px solid gray;flex-grow: 1;}#sk-container-id-2 div.sk-label:hover label.sk-toggleable__label {background-color: #d4ebff;}#sk-container-id-2 div.sk-serial::before {content: \"\";position: absolute;border-left: 1px solid gray;box-sizing: border-box;top: 0;bottom: 0;left: 50%;z-index: 0;}#sk-container-id-2 div.sk-serial {display: flex;flex-direction: column;align-items: center;background-color: white;padding-right: 0.2em;padding-left: 0.2em;position: relative;}#sk-container-id-2 div.sk-item {position: relative;z-index: 1;}#sk-container-id-2 div.sk-parallel {display: flex;align-items: stretch;justify-content: center;background-color: white;position: relative;}#sk-container-id-2 div.sk-item::before, #sk-container-id-2 div.sk-parallel-item::before {content: \"\";position: absolute;border-left: 1px solid gray;box-sizing: border-box;top: 0;bottom: 0;left: 50%;z-index: -1;}#sk-container-id-2 div.sk-parallel-item {display: flex;flex-direction: column;z-index: 1;position: relative;background-color: white;}#sk-container-id-2 div.sk-parallel-item:first-child::after {align-self: flex-end;width: 50%;}#sk-container-id-2 div.sk-parallel-item:last-child::after {align-self: flex-start;width: 50%;}#sk-container-id-2 div.sk-parallel-item:only-child::after {width: 0;}#sk-container-id-2 div.sk-dashed-wrapped {border: 1px dashed gray;margin: 0 0.4em 0.5em 0.4em;box-sizing: border-box;padding-bottom: 0.4em;background-color: white;}#sk-container-id-2 div.sk-label label {font-family: monospace;font-weight: bold;display: inline-block;line-height: 1.2em;}#sk-container-id-2 div.sk-label-container {text-align: center;}#sk-container-id-2 div.sk-container {/* jupyter's `normalize.less` sets `[hidden] { display: none; }` but bootstrap.min.css set `[hidden] { display: none !important; }` so we also need the `!important` here to be able to override the default hidden behavior on the sphinx rendered scikit-learn.org. See: https://github.com/scikit-learn/scikit-learn/issues/21755 */display: inline-block !important;position: relative;}#sk-container-id-2 div.sk-text-repr-fallback {display: none;}</style><div id=\"sk-container-id-2\" class=\"sk-top-container\"><div class=\"sk-text-repr-fallback\"><pre>VotingClassifier(estimators=[(&#x27;dt&#x27;, DecisionTreeClassifier()),\n",
       "                             (&#x27;svm&#x27;, SVC(gamma=&#x27;auto&#x27;, probability=True)),\n",
       "                             (&#x27;rf&#x27;, RandomForestClassifier(n_estimators=10)),\n",
       "                             (&#x27;knn&#x27;, KNeighborsClassifier())],\n",
       "                 voting=&#x27;soft&#x27;)</pre><b>In a Jupyter environment, please rerun this cell to show the HTML representation or trust the notebook. <br />On GitHub, the HTML representation is unable to render, please try loading this page with nbviewer.org.</b></div><div class=\"sk-container\" hidden><div class=\"sk-item sk-dashed-wrapped\"><div class=\"sk-label-container\"><div class=\"sk-label sk-toggleable\"><input class=\"sk-toggleable__control sk-hidden--visually\" id=\"sk-estimator-id-5\" type=\"checkbox\" ><label for=\"sk-estimator-id-5\" class=\"sk-toggleable__label sk-toggleable__label-arrow\">VotingClassifier</label><div class=\"sk-toggleable__content\"><pre>VotingClassifier(estimators=[(&#x27;dt&#x27;, DecisionTreeClassifier()),\n",
       "                             (&#x27;svm&#x27;, SVC(gamma=&#x27;auto&#x27;, probability=True)),\n",
       "                             (&#x27;rf&#x27;, RandomForestClassifier(n_estimators=10)),\n",
       "                             (&#x27;knn&#x27;, KNeighborsClassifier())],\n",
       "                 voting=&#x27;soft&#x27;)</pre></div></div></div><div class=\"sk-parallel\"><div class=\"sk-parallel-item\"><div class=\"sk-item\"><div class=\"sk-label-container\"><div class=\"sk-label sk-toggleable\"><label>dt</label></div></div><div class=\"sk-serial\"><div class=\"sk-item\"><div class=\"sk-estimator sk-toggleable\"><input class=\"sk-toggleable__control sk-hidden--visually\" id=\"sk-estimator-id-6\" type=\"checkbox\" ><label for=\"sk-estimator-id-6\" class=\"sk-toggleable__label sk-toggleable__label-arrow\">DecisionTreeClassifier</label><div class=\"sk-toggleable__content\"><pre>DecisionTreeClassifier()</pre></div></div></div></div></div></div><div class=\"sk-parallel-item\"><div class=\"sk-item\"><div class=\"sk-label-container\"><div class=\"sk-label sk-toggleable\"><label>svm</label></div></div><div class=\"sk-serial\"><div class=\"sk-item\"><div class=\"sk-estimator sk-toggleable\"><input class=\"sk-toggleable__control sk-hidden--visually\" id=\"sk-estimator-id-7\" type=\"checkbox\" ><label for=\"sk-estimator-id-7\" class=\"sk-toggleable__label sk-toggleable__label-arrow\">SVC</label><div class=\"sk-toggleable__content\"><pre>SVC(gamma=&#x27;auto&#x27;, probability=True)</pre></div></div></div></div></div></div><div class=\"sk-parallel-item\"><div class=\"sk-item\"><div class=\"sk-label-container\"><div class=\"sk-label sk-toggleable\"><label>rf</label></div></div><div class=\"sk-serial\"><div class=\"sk-item\"><div class=\"sk-estimator sk-toggleable\"><input class=\"sk-toggleable__control sk-hidden--visually\" id=\"sk-estimator-id-8\" type=\"checkbox\" ><label for=\"sk-estimator-id-8\" class=\"sk-toggleable__label sk-toggleable__label-arrow\">RandomForestClassifier</label><div class=\"sk-toggleable__content\"><pre>RandomForestClassifier(n_estimators=10)</pre></div></div></div></div></div></div><div class=\"sk-parallel-item\"><div class=\"sk-item\"><div class=\"sk-label-container\"><div class=\"sk-label sk-toggleable\"><label>knn</label></div></div><div class=\"sk-serial\"><div class=\"sk-item\"><div class=\"sk-estimator sk-toggleable\"><input class=\"sk-toggleable__control sk-hidden--visually\" id=\"sk-estimator-id-9\" type=\"checkbox\" ><label for=\"sk-estimator-id-9\" class=\"sk-toggleable__label sk-toggleable__label-arrow\">KNeighborsClassifier</label><div class=\"sk-toggleable__content\"><pre>KNeighborsClassifier()</pre></div></div></div></div></div></div></div></div></div></div>"
      ],
      "text/plain": [
       "VotingClassifier(estimators=[('dt', DecisionTreeClassifier()),\n",
       "                             ('svm', SVC(gamma='auto', probability=True)),\n",
       "                             ('rf', RandomForestClassifier(n_estimators=10)),\n",
       "                             ('knn', KNeighborsClassifier())],\n",
       "                 voting='soft')"
      ]
     },
     "execution_count": 63,
     "metadata": {},
     "output_type": "execute_result"
    }
   ],
   "source": [
    "# Define individual classifiers\n",
    "clf1 = DecisionTreeClassifier(criterion='gini', splitter='best')\n",
    "clf2 = SVC(gamma='auto', kernel='rbf', probability=True)\n",
    "clf3 = RandomForestClassifier(n_estimators=10)\n",
    "clf4 = KNeighborsClassifier()\n",
    "\n",
    "# Create the voting classifier\n",
    "voting_clf = VotingClassifier(\n",
    "    estimators=[('dt', clf1), ('svm', clf2), ('rf', clf3), ('knn', clf4)],\n",
    "    voting='soft'  # Use majority voting\n",
    ")\n",
    "\n",
    "# Train the voting classifier\n",
    "voting_clf.fit(X_train, y_train)"
   ]
  },
  {
   "cell_type": "code",
   "execution_count": 64,
   "id": "8ac53960",
   "metadata": {},
   "outputs": [],
   "source": [
    "# Evaluate the voting classifier\n",
    "vc_score = voting_clf.score(X_test, y_test)"
   ]
  },
  {
   "cell_type": "code",
   "execution_count": 65,
   "id": "15299d39",
   "metadata": {},
   "outputs": [],
   "source": [
    "# Make predictions using the voting classifier\n",
    "y_predicted_vclf = voting_clf.predict(X_test)"
   ]
  },
  {
   "cell_type": "code",
   "execution_count": 66,
   "id": "d217a4d9",
   "metadata": {},
   "outputs": [
    {
     "name": "stdout",
     "output_type": "stream",
     "text": [
      "Voting Classifier Score: 0.9854545454545455\n"
     ]
    }
   ],
   "source": [
    "print(\"Voting Classifier Score:\", vc_score)\n"
   ]
  },
  {
   "cell_type": "markdown",
   "id": "61d8a6a7",
   "metadata": {},
   "source": [
    "CLASSIFICATION REPORT"
   ]
  },
  {
   "cell_type": "code",
   "execution_count": 67,
   "id": "b5091e97",
   "metadata": {},
   "outputs": [
    {
     "name": "stdout",
     "output_type": "stream",
     "text": [
      "              precision    recall  f1-score   support\n",
      "\n",
      "       apple       1.00      1.00      1.00        29\n",
      "      banana       1.00      1.00      1.00        23\n",
      "   blackgram       1.00      1.00      1.00        24\n",
      "    chickpea       1.00      1.00      1.00        31\n",
      "     coconut       1.00      1.00      1.00        27\n",
      "      coffee       1.00      1.00      1.00        26\n",
      "      cotton       1.00      1.00      1.00        21\n",
      "      grapes       1.00      1.00      1.00        19\n",
      "        jute       0.83      0.93      0.88        27\n",
      " kidneybeans       1.00      1.00      1.00        24\n",
      "      lentil       0.94      1.00      0.97        15\n",
      "       maize       1.00      1.00      1.00        23\n",
      "       mango       1.00      1.00      1.00        27\n",
      "   mothbeans       1.00      0.96      0.98        26\n",
      "    mungbean       1.00      1.00      1.00        26\n",
      "   muskmelon       1.00      1.00      1.00        22\n",
      "      orange       1.00      1.00      1.00        19\n",
      "      papaya       1.00      1.00      1.00        31\n",
      "  pigeonpeas       1.00      1.00      1.00        34\n",
      " pomegranate       1.00      1.00      1.00        30\n",
      "        rice       0.91      0.80      0.85        25\n",
      "  watermelon       1.00      1.00      1.00        21\n",
      "\n",
      "    accuracy                           0.99       550\n",
      "   macro avg       0.99      0.99      0.99       550\n",
      "weighted avg       0.99      0.99      0.99       550\n",
      "\n"
     ]
    }
   ],
   "source": [
    "# Print the classification report\n",
    "print(classification_report(y_test, y_predicted_vclf))\n",
    "# print(classification_report(encode.inverse_transform(y_test), encode.inverse_transform(y_predicted_vclf)))"
   ]
  },
  {
   "cell_type": "markdown",
   "id": "54e33299",
   "metadata": {},
   "source": [
    "CONFUSION MATRIX"
   ]
  },
  {
   "cell_type": "code",
   "execution_count": 68,
   "id": "0c532b5d",
   "metadata": {},
   "outputs": [
    {
     "data": {
      "image/png": "[encoded data removed]",
      "text/plain": [
       "<Figure size 1200x800 with 2 Axes>"
      ]
     },
     "metadata": {},
     "output_type": "display_data"
    }
   ],
   "source": [
    "#constructing a confusion matrix of the y_test and predicted\n",
    "plt.figure(figsize=(12,8)) #create a 12x8 plot \n",
    "sns.heatmap(confusion_matrix(y_test, y_predicted_vclf),annot=True) #generate a heatmap of the created confusion matrix of the y_test and the predict\n",
    "plt.xlabel(\"Original\")\n",
    "plt.ylabel(\"Predicted\")\n",
    "plt.show()"
   ]
  },
  {
   "cell_type": "markdown",
   "id": "9a12fad5",
   "metadata": {},
   "source": [
    "ROC AUC"
   ]
  },
  {
   "cell_type": "code",
   "execution_count": null,
   "id": "25b00086",
   "metadata": {},
   "outputs": [],
   "source": [
    "#encode Y before running this code"
   ]
  },
  {
   "cell_type": "code",
   "execution_count": null,
   "id": "aa94606d",
   "metadata": {},
   "outputs": [],
   "source": [
    "## Predict class probabilities using predict_proba\n",
    "y_probs_vclf = voting_clf.predict_proba(X_test)\n",
    "\n",
    "# Binarize the labels\n",
    "y_test_binarized_vclf = label_binarize(y_test, classes=range(20))\n",
    "\n",
    "# Compute ROC curve and ROC AUC for each class\n",
    "fpr = dict()\n",
    "tpr = dict()\n",
    "roc_auc = dict()\n",
    "\n",
    "for i in range((20)):\n",
    "    fpr[i], tpr[i], _ = roc_curve(y_test_binarized_vclf[:, i], y_probs_vclf[:, i])\n",
    "    roc_auc[i] = auc(fpr[i], tpr[i])\n",
    "\n",
    "# Plot ROC curves\n",
    "plt.figure(figsize=(10, 8))\n",
    "for i in range(20):\n",
    "    plt.plot(fpr[i], tpr[i], label='Class {}: AUC = {:.2f}'.format(i, roc_auc[i]))\n",
    "\n",
    "plt.plot([0, 1], [0, 1], 'k--', label='Random')\n",
    "plt.xlim([0.0, 1.0])\n",
    "plt.ylim([0.0, 1.05])\n",
    "plt.xlabel('False Positive Rate')\n",
    "plt.ylabel('True Positive Rate')\n",
    "plt.title('ROC Curve')\n",
    "plt.legend(loc=\"lower right\")\n",
    "plt.show()\n"
   ]
  },
  {
   "cell_type": "markdown",
   "id": "9540f03e",
   "metadata": {},
   "source": [
    "PREDICTION"
   ]
  },
  {
   "cell_type": "code",
   "execution_count": 70,
   "id": "2cbf6e06",
   "metadata": {},
   "outputs": [
    {
     "data": {
      "text/plain": [
       "array(['coffee'], dtype=object)"
      ]
     },
     "execution_count": 70,
     "metadata": {},
     "output_type": "execute_result"
    }
   ],
   "source": [
    "# data = pd.DataFrame([[N, P, K, temperature, humidity, ph, rainfall]], columns=['N', 'P', 'K', 'temperature', 'humidity', 'ph', 'rainfall'])\n",
    "data = np.array([[104,18, 30, 23.603016, 60.3, 6.7, 140.91]]) \n",
    "yP = voting_clf.predict(data)\n",
    "# encode.inverse_transform(yP)\n",
    "yP"
   ]
  },
  {
   "cell_type": "markdown",
   "id": "333d6b7e",
   "metadata": {},
   "source": [
    "## SAVING THE TRAINED MODEL "
   ]
  },
  {
   "cell_type": "code",
   "execution_count": null,
   "id": "cde20f9c",
   "metadata": {
    "ExecuteTime": {
     "end_time": "2023-04-29T07:42:08.852521Z",
     "start_time": "2023-04-29T07:42:07.615230Z"
    }
   },
   "outputs": [],
   "source": [
    "from joblib import dump\n",
    "dump(bag_model, 'bagging_classifier.joblib')\n",
    "\n",
    "# y_test_enc = encode.fit_transform(y_test)\n",
    "\n",
    "np.save('y_test', y_test)\n",
    "np.save('X_test', X_test)\n",
    "print(len(y_test))\n",
    "print(len(y_test))"
   ]
  },
  {
   "cell_type": "code",
   "execution_count": null,
   "id": "aa84ee9f",
   "metadata": {},
   "outputs": [],
   "source": [
    "import pickle\n",
    "with open('X_test.pk1', 'wb') as f:\n",
    "    pickle.dump(X_test, f)\n",
    "    \n",
    "with open('y_test.pk1', 'wb') as f:\n",
    "    pickle.dump(y_test, f)"
   ]
  },
  {
   "cell_type": "markdown",
   "id": "26fa5b6c",
   "metadata": {
    "ExecuteTime": {
     "end_time": "2023-04-25T17:08:16.972074Z",
     "start_time": "2023-04-25T17:08:16.959862Z"
    }
   },
   "source": [
    "## TESTING OUR RECOMMENDER SYSTEM DIRECTLY "
   ]
  },
  {
   "cell_type": "markdown",
   "id": "a0b89e93",
   "metadata": {
    "heading_collapsed": true
   },
   "source": [
    "## using input from user"
   ]
  },
  {
   "cell_type": "code",
   "execution_count": null,
   "id": "48e9e108",
   "metadata": {
    "ExecuteTime": {
     "start_time": "2023-04-29T07:28:24.513Z"
    },
    "hidden": true
   },
   "outputs": [],
   "source": [
    "import numpy as np\n",
    "import pandas as pd\n",
    "\n",
    "# get input data from the user\n",
    "N = float(input(\"Enter the value of N: \"))\n",
    "P = float(input(\"Enter the value of P: \"))\n",
    "K = float(input(\"Enter the value of K: \"))\n",
    "temperature = float(input(\"Enter the temperature: \"))\n",
    "humidity = float(input(\"Enter the humidity: \"))\n",
    "ph = float(input(\"Enter the pH level: \"))\n",
    "rainfall = float(input(\"Enter the rainfall: \"))\n",
    "\n",
    "# create a DataFrame with the user input and set the column names\n",
    "data = pd.DataFrame([[N, P, K, temperature, humidity, ph, rainfall]], columns=['N', 'P', 'K', 'temperature', 'humidity', 'ph', 'rainfall'])\n",
    "\n",
    "# make a prediction using the input data\n",
    "prediction = bag_model.predict(data)\n",
    "\n",
    "# decoded_data = encode.inverse_transform(prediction)\n",
    "\n",
    "\n",
    "# print the prediction\n",
    "print('The recommended crop to be grown is: ', prediction)"
   ]
  },
  {
   "cell_type": "markdown",
   "id": "26548382",
   "metadata": {},
   "source": [
    "#### series of predictions hard coded"
   ]
  },
  {
   "cell_type": "code",
   "execution_count": 71,
   "id": "28e50193",
   "metadata": {},
   "outputs": [
    {
     "name": "stdout",
     "output_type": "stream",
     "text": [
      "['maize']\n"
     ]
    }
   ],
   "source": [
    "data = np.array([[89,67, 30, 43, 60, 5, 80]]) #so we will create a input field to take the data\n",
    "prediction = bag_model.predict(data) #call our preferred trained module\n",
    "print(prediction)"
   ]
  },
  {
   "cell_type": "code",
   "execution_count": 72,
   "id": "30f55df4",
   "metadata": {
    "ExecuteTime": {
     "start_time": "2023-04-29T07:28:24.517Z"
    },
    "scrolled": true
   },
   "outputs": [
    {
     "name": "stdout",
     "output_type": "stream",
     "text": [
      "['coffee']\n"
     ]
    }
   ],
   "source": [
    "data = np.array([[104,18, 30, 23.603016, 60.3, 6.7, 140.91]]) #so we will create a input field to take the data\n",
    "prediction = bag_model.predict(data) #call our preferred trained module\n",
    "print(prediction)"
   ]
  },
  {
   "cell_type": "code",
   "execution_count": 73,
   "id": "c578c4d3",
   "metadata": {
    "ExecuteTime": {
     "start_time": "2023-04-29T07:28:24.520Z"
    }
   },
   "outputs": [
    {
     "data": {
      "text/plain": [
       "array(['mango'], dtype=object)"
      ]
     },
     "execution_count": 73,
     "metadata": {},
     "output_type": "execute_result"
    }
   ],
   "source": [
    "data = np.array([[30,3, 40, 40, 70.3, 3, 70]]) #so we will create a input field to take the data\n",
    "prediction = bag_model.predict(data) #call our preferred trained module\n",
    "#convert it back to categorical\n",
    "# print(encode.inverse_transform(prediction)) #output field to print back our data\n",
    "prediction"
   ]
  },
  {
   "cell_type": "code",
   "execution_count": 74,
   "id": "a851532a",
   "metadata": {
    "ExecuteTime": {
     "start_time": "2023-04-29T07:28:24.523Z"
    }
   },
   "outputs": [
    {
     "name": "stdout",
     "output_type": "stream",
     "text": [
      "['banana']\n"
     ]
    }
   ],
   "source": [
    "data = np.array([[60,70, 40, 40, 70.3, 3, 70]]) #so we will create a input field to take the data\n",
    "prediction = bag_model.predict(data) #call our preferred trained module\n",
    "print(prediction) #output field to print back our data"
   ]
  },
  {
   "cell_type": "code",
   "execution_count": 75,
   "id": "9717cf08",
   "metadata": {
    "ExecuteTime": {
     "start_time": "2023-04-29T07:28:24.526Z"
    },
    "scrolled": true
   },
   "outputs": [
    {
     "name": "stdout",
     "output_type": "stream",
     "text": [
      "['muskmelon']\n"
     ]
    }
   ],
   "source": [
    "data = np.array([[99,34, 32, 90, 90, 32, 34]]) #so we will create a input field to take the data\n",
    "prediction = bag_model.predict(data) #call our preferred trained module\n",
    "print(prediction) #output field to print back our data"
   ]
  },
  {
   "cell_type": "code",
   "execution_count": 76,
   "id": "befeb4fc",
   "metadata": {
    "ExecuteTime": {
     "start_time": "2023-04-29T07:28:24.530Z"
    }
   },
   "outputs": [
    {
     "name": "stdout",
     "output_type": "stream",
     "text": [
      "['kidneybeans']\n"
     ]
    }
   ],
   "source": [
    "data = np.array([[34,4, 34, 3, 3, 3, 5]]) #so we will create a input field to take the data\n",
    "prediction = bag_model.predict(data) #call our preferred trained module\n",
    "print(prediction) #output field to print back our data"
   ]
  },
  {
   "cell_type": "markdown",
   "id": "74c65089",
   "metadata": {},
   "source": [
    "## predicting using the save trained model which will be used in a application"
   ]
  },
  {
   "cell_type": "code",
   "execution_count": 77,
   "id": "cf1c137a",
   "metadata": {
    "ExecuteTime": {
     "start_time": "2023-04-29T07:28:24.534Z"
    }
   },
   "outputs": [],
   "source": [
    "from joblib import load\n",
    "\n",
    "bag_model_saved = load('bagging_classifier.joblib')\n"
   ]
  },
  {
   "cell_type": "code",
   "execution_count": null,
   "id": "98cb52e8",
   "metadata": {
    "ExecuteTime": {
     "start_time": "2023-04-29T07:28:24.538Z"
    }
   },
   "outputs": [],
   "source": [
    "# get input data from the user\n",
    "N = float(input(\"Enter the value of N: \"))\n",
    "P = float(input(\"Enter the value of P: \"))\n",
    "K = float(input(\"Enter the value of K: \"))\n",
    "temperature = float(input(\"Enter the temperature: \"))\n",
    "humidity = float(input(\"Enter the humidity: \"))\n",
    "ph = float(input(\"Enter the pH level: \"))\n",
    "rainfall = float(input(\"Enter the rainfall: \"))\n",
    "\n",
    "# create a DataFrame with the user input and set the column names\n",
    "data = pd.DataFrame([[N, P, K, temperature, humidity, ph, rainfall]], columns=['N', 'P', 'K', 'temperature', 'humidity', 'ph', 'rainfall'])\n",
    "\n",
    "# make a prediction using the input data\n",
    "prediction = bag_model_saved.predict(data)\n",
    "\n",
    "# print the prediction\n",
    "# print(encode.inverse_transform(prediction))\n",
    "prediction"
   ]
  },
  {
   "cell_type": "markdown",
   "id": "35d9db14",
   "metadata": {},
   "source": [
    "## series of prediction on the tranined model"
   ]
  },
  {
   "cell_type": "code",
   "execution_count": 78,
   "id": "b232a132",
   "metadata": {
    "ExecuteTime": {
     "start_time": "2023-04-29T07:28:24.542Z"
    }
   },
   "outputs": [
    {
     "name": "stdout",
     "output_type": "stream",
     "text": [
      "['coffee']\n",
      "['mango']\n",
      "['banana']\n",
      "['muskmelon']\n",
      "['kidneybeans']\n",
      "['mothbeans']\n"
     ]
    }
   ],
   "source": [
    "data = np.array([[104,18, 30, 23.603016, 60.3, 6.7, 140.91]]) #so we will create a input field to take the data\n",
    "prediction = bag_model_saved.predict(data) #call our preferred trained module\n",
    "print(prediction) \n",
    "\n",
    "data = np.array([[30,3, 40, 40, 70.3, 3, 70]]) #so we will create a input field to take the data\n",
    "prediction = bag_model_saved.predict(data) #call our preferred trained module\n",
    "print(prediction) #output field to print back our data\n",
    "\n",
    "data = np.array([[60,70, 40, 40, 70.3, 3, 70]]) #so we will create a input field to take the data\n",
    "prediction = bag_model_saved.predict(data) #call our preferred trained module\n",
    "print(prediction) #output field to print back our data\n",
    "\n",
    "data = np.array([[99,34, 32, 90, 90, 32, 34]]) #so we will create a input field to take the data\n",
    "prediction = bag_model_saved.predict(data) #call our preferred trained module\n",
    "print(prediction) #output field to print back our data\n",
    "\n",
    "data = np.array([[34,4, 34, 3, 3, 3, 5]]) #so we will create a input field to take the data\n",
    "prediction = bag_model_saved.predict(data) #call our preferred trained module\n",
    "print(prediction) #output field to print back our data\n",
    "\n",
    "data = np.array([[34,4, 34, 3, 33, 18, 34]]) #so we will create a input field to take the data\n",
    "prediction = bag_model_saved.predict(data) #call our preferred trained module\n",
    "print(prediction)"
   ]
  },
  {
   "cell_type": "code",
   "execution_count": null,
   "id": "1188e4e3",
   "metadata": {},
   "outputs": [],
   "source": []
  },
  {
   "cell_type": "code",
   "execution_count": null,
   "id": "3defcfdb",
   "metadata": {},
   "outputs": [],
   "source": []
  },
  {
   "cell_type": "code",
   "execution_count": null,
   "id": "eeb743f3",
   "metadata": {},
   "outputs": [],
   "source": []
  }
 ],
 "metadata": {
  "hide_input": false,
  "kernelspec": {
   "display_name": "Python 3 (ipykernel)",
   "language": "python",
   "name": "python3"
  },
  "language_info": {
   "codemirror_mode": {
    "name": "ipython",
    "version": 3
   },
   "file_extension": ".py",
   "mimetype": "text/x-python",
   "name": "python",
   "nbconvert_exporter": "python",
   "pygments_lexer": "ipython3",
   "version": "3.10.9"
  }
 },
 "nbformat": 4,
 "nbformat_minor": 5
}
